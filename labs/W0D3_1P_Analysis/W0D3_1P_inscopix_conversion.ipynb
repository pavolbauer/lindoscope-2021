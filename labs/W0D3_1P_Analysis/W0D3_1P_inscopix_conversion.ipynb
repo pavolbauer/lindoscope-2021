{
 "cells": [
  {
   "cell_type": "code",
   "execution_count": 1,
   "id": "quiet-carpet",
   "metadata": {
    "execution": {
     "iopub.execute_input": "2021-08-03T07:02:52.398587Z",
     "iopub.status.busy": "2021-08-03T07:02:52.398333Z",
     "iopub.status.idle": "2021-08-03T07:02:53.550965Z",
     "shell.execute_reply": "2021-08-03T07:02:53.549918Z",
     "shell.execute_reply.started": "2021-08-03T07:02:52.398561Z"
    }
   },
   "outputs": [],
   "source": [
    "import isx"
   ]
  },
  {
   "cell_type": "code",
   "execution_count": 2,
   "id": "split-panama",
   "metadata": {
    "execution": {
     "iopub.execute_input": "2021-08-03T07:05:44.671594Z",
     "iopub.status.busy": "2021-08-03T07:05:44.671279Z",
     "iopub.status.idle": "2021-08-03T07:07:15.166692Z",
     "shell.execute_reply": "2021-08-03T07:07:15.165675Z",
     "shell.execute_reply.started": "2021-08-03T07:05:44.671526Z"
    }
   },
   "outputs": [],
   "source": [
    "# convert ISXD file to TIFF (takes about 1min for 5GB)\n",
    "raw_file = '/Users/Oliver/Downloads/2021-07-27-09-54-47_video.isxd'\n",
    "tif_file = '/Users/Oliver/Downloads/2021-07-27-09-54-47_video.tif'\n",
    "isx.export_movie_to_tiff(raw_file, tif_file, write_invalid_frames=True)"
   ]
  },
  {
   "cell_type": "code",
   "execution_count": null,
   "id": "consistent-anthropology",
   "metadata": {},
   "outputs": [],
   "source": []
  }
 ],
 "metadata": {
  "kernelspec": {
   "display_name": "Python 3",
   "language": "python",
   "name": "python3"
  },
  "language_info": {
   "codemirror_mode": {
    "name": "ipython",
    "version": 3
   },
   "file_extension": ".py",
   "mimetype": "text/x-python",
   "name": "python",
   "nbconvert_exporter": "python",
   "pygments_lexer": "ipython3",
   "version": "3.8.5"
  }
 },
 "nbformat": 4,
 "nbformat_minor": 5
}
